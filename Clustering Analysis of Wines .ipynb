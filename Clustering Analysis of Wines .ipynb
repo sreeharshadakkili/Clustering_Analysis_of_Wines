{
  "nbformat": 4,
  "nbformat_minor": 0,
  "metadata": {
    "colab": {
      "provenance": []
    },
    "kernelspec": {
      "name": "python3",
      "display_name": "Python 3"
    },
    "language_info": {
      "name": "python"
    }
  },
  "cells": [
    {
      "cell_type": "markdown",
      "source": [
        "# Lab 10 - Clustering Analysis with Spark MLlib\n",
        "\n",
        "In this lab, we will explore machine learning with Spark MLlib module. Specifically, we will play around how to do a KMeans Clustering to explore how many types of Wines are there in our wine dataset."
      ],
      "metadata": {
        "id": "O90gvRddJaQC"
      }
    },
    {
      "cell_type": "code",
      "execution_count": 1,
      "metadata": {
        "colab": {
          "base_uri": "https://localhost:8080/"
        },
        "id": "SmUo9mxPJAps",
        "outputId": "1a304f80-9613-4267-cbe1-83852dd2613a"
      },
      "outputs": [
        {
          "output_type": "stream",
          "name": "stdout",
          "text": [
            "Collecting pyspark\n",
            "  Downloading pyspark-3.5.1.tar.gz (317.0 MB)\n",
            "\u001b[2K     \u001b[90m━━━━━━━━━━━━━━━━━━━━━━━━━━━━━━━━━━━━━━━━\u001b[0m \u001b[32m317.0/317.0 MB\u001b[0m \u001b[31m2.6 MB/s\u001b[0m eta \u001b[36m0:00:00\u001b[0m\n",
            "\u001b[?25h  Preparing metadata (setup.py) ... \u001b[?25l\u001b[?25hdone\n",
            "Requirement already satisfied: py4j==0.10.9.7 in /usr/local/lib/python3.10/dist-packages (from pyspark) (0.10.9.7)\n",
            "Building wheels for collected packages: pyspark\n",
            "  Building wheel for pyspark (setup.py) ... \u001b[?25l\u001b[?25hdone\n",
            "  Created wheel for pyspark: filename=pyspark-3.5.1-py2.py3-none-any.whl size=317488491 sha256=1b54b597573857fb80456c4bf467778b824b5a64c1641de93e2b64501d5a77e8\n",
            "  Stored in directory: /root/.cache/pip/wheels/80/1d/60/2c256ed38dddce2fdd93be545214a63e02fbd8d74fb0b7f3a6\n",
            "Successfully built pyspark\n",
            "Installing collected packages: pyspark\n",
            "Successfully installed pyspark-3.5.1\n"
          ]
        }
      ],
      "source": [
        "!pip install pyspark"
      ]
    },
    {
      "cell_type": "code",
      "source": [
        "## Other packages will be used\n",
        "import pandas as pd\n",
        "import numpy as np\n",
        "import matplotlib.pyplot as plt\n",
        "import seaborn as sns\n",
        "\n",
        "# Start a SparkSession\n",
        "from pyspark.sql import SparkSession\n",
        "\n",
        "spark = SparkSession.builder.master(\"local[*]\").getOrCreate()"
      ],
      "metadata": {
        "id": "WC-YLwWcJ9Wb"
      },
      "execution_count": 2,
      "outputs": []
    },
    {
      "cell_type": "markdown",
      "source": [
        "Let's first upload the `wine.csv` into Google Colab using the left file tab.\n",
        "\n",
        "The data is the results of a chemical analysis of wines grown in the same region in Italy by three different cultivators. There are thirteen different measurements taken for different constituents found in the three types of wine.\n",
        "\n",
        "It contains the following features that describe the wine.\n",
        "\n",
        "* Alcohol\n",
        "* Malic acid\n",
        "* Ash\n",
        "* Alcalinity of ash\n",
        "* Magnesium\n",
        "* Total phenols\n",
        "* Flavanoids\n",
        "* Nonflavanoid phenols\n",
        "* Proanthocyanins\n",
        "* Color intensity\n",
        "* Hue\n",
        "* OD280/OD315 of diluted wines\n",
        "* Proline"
      ],
      "metadata": {
        "id": "btHH_ckmpvz6"
      }
    },
    {
      "cell_type": "markdown",
      "source": [
        "## Load DataSet"
      ],
      "metadata": {
        "id": "ZLDOHzoZ0ecz"
      }
    },
    {
      "cell_type": "code",
      "source": [
        "# Loads data.\n",
        "wine = spark.read.load(\"wine.csv\", format=\"csv\", sep=\",\", inferSchema=True, header=True)\n",
        "wine.show(5)"
      ],
      "metadata": {
        "colab": {
          "base_uri": "https://localhost:8080/"
        },
        "id": "e-_vcEY3KHur",
        "outputId": "84b1e1e6-0a96-42a5-840b-05c5ce32a4c6"
      },
      "execution_count": 3,
      "outputs": [
        {
          "output_type": "stream",
          "name": "stdout",
          "text": [
            "+-------+----------+----+-----------------+---------+-------------+----------+--------------------+---------------+---------------+----+----------------------------+-------+\n",
            "|alcohol|malic_acid| ash|alcalinity_of_ash|magnesium|total_phenols|flavanoids|nonflavanoid_phenols|proanthocyanins|color_intensity| hue|od280/od315_of_diluted_wines|proline|\n",
            "+-------+----------+----+-----------------+---------+-------------+----------+--------------------+---------------+---------------+----+----------------------------+-------+\n",
            "|  14.23|      1.71|2.43|             15.6|    127.0|          2.8|      3.06|                0.28|           2.29|           5.64|1.04|                        3.92| 1065.0|\n",
            "|   13.2|      1.78|2.14|             11.2|    100.0|         2.65|      2.76|                0.26|           1.28|           4.38|1.05|                         3.4| 1050.0|\n",
            "|  13.16|      2.36|2.67|             18.6|    101.0|          2.8|      3.24|                 0.3|           2.81|           5.68|1.03|                        3.17| 1185.0|\n",
            "|  14.37|      1.95| 2.5|             16.8|    113.0|         3.85|      3.49|                0.24|           2.18|            7.8|0.86|                        3.45| 1480.0|\n",
            "|  13.24|      2.59|2.87|             21.0|    118.0|          2.8|      2.69|                0.39|           1.82|           4.32|1.04|                        2.93|  735.0|\n",
            "+-------+----------+----+-----------------+---------+-------------+----------+--------------------+---------------+---------------+----+----------------------------+-------+\n",
            "only showing top 5 rows\n",
            "\n"
          ]
        }
      ]
    },
    {
      "cell_type": "markdown",
      "source": [
        "This is a typical clustering dataset, in which we have a set of features (X)describe different aspects of wines, but no target variable (Y). Here, we want to ues KMeans to describe the underlying characteristics of wines --  clustering wines into a small set of groups where wine in each group share similar characteristics."
      ],
      "metadata": {
        "id": "EcqlIyo0qy82"
      }
    },
    {
      "cell_type": "markdown",
      "source": [
        "## Exam the Data and Preprocessing"
      ],
      "metadata": {
        "id": "pnay12ZG0h4H"
      }
    },
    {
      "cell_type": "code",
      "source": [
        "## first let's check the dataset's schema\n",
        "wine.printSchema()"
      ],
      "metadata": {
        "colab": {
          "base_uri": "https://localhost:8080/"
        },
        "id": "LJOS-5lbN4s8",
        "outputId": "fcc2ecf7-1f93-41d3-ec61-d3588bb81a66"
      },
      "execution_count": 4,
      "outputs": [
        {
          "output_type": "stream",
          "name": "stdout",
          "text": [
            "root\n",
            " |-- alcohol: double (nullable = true)\n",
            " |-- malic_acid: double (nullable = true)\n",
            " |-- ash: double (nullable = true)\n",
            " |-- alcalinity_of_ash: double (nullable = true)\n",
            " |-- magnesium: double (nullable = true)\n",
            " |-- total_phenols: double (nullable = true)\n",
            " |-- flavanoids: double (nullable = true)\n",
            " |-- nonflavanoid_phenols: double (nullable = true)\n",
            " |-- proanthocyanins: double (nullable = true)\n",
            " |-- color_intensity: double (nullable = true)\n",
            " |-- hue: double (nullable = true)\n",
            " |-- od280/od315_of_diluted_wines: double (nullable = true)\n",
            " |-- proline: double (nullable = true)\n",
            "\n"
          ]
        }
      ]
    },
    {
      "cell_type": "code",
      "source": [
        "## check how many instances\n",
        "wine.count()"
      ],
      "metadata": {
        "colab": {
          "base_uri": "https://localhost:8080/"
        },
        "id": "bM3lKTEyOHaC",
        "outputId": "2c2a49f6-ede2-44e5-8258-51a3fdbdffcf"
      },
      "execution_count": 5,
      "outputs": [
        {
          "output_type": "execute_result",
          "data": {
            "text/plain": [
              "178"
            ]
          },
          "metadata": {},
          "execution_count": 5
        }
      ]
    },
    {
      "cell_type": "code",
      "source": [
        "## check for how many features\n",
        "len(wine.columns)"
      ],
      "metadata": {
        "colab": {
          "base_uri": "https://localhost:8080/"
        },
        "id": "kq9xt3zbPlpZ",
        "outputId": "1a39a7c7-6881-4a43-f656-fd5a6e9e651e"
      },
      "execution_count": 6,
      "outputs": [
        {
          "output_type": "execute_result",
          "data": {
            "text/plain": [
              "13"
            ]
          },
          "metadata": {},
          "execution_count": 6
        }
      ]
    },
    {
      "cell_type": "code",
      "source": [
        "## show data destribution\n",
        "wine.describe().show()"
      ],
      "metadata": {
        "colab": {
          "base_uri": "https://localhost:8080/"
        },
        "id": "9aSyuSxmOPio",
        "outputId": "16cb85f0-21c3-46c8-e0ff-689841a8891f"
      },
      "execution_count": 7,
      "outputs": [
        {
          "output_type": "stream",
          "name": "stdout",
          "text": [
            "+-------+------------------+------------------+------------------+-----------------+------------------+------------------+------------------+--------------------+------------------+-----------------+-------------------+----------------------------+-----------------+\n",
            "|summary|           alcohol|        malic_acid|               ash|alcalinity_of_ash|         magnesium|     total_phenols|        flavanoids|nonflavanoid_phenols|   proanthocyanins|  color_intensity|                hue|od280/od315_of_diluted_wines|          proline|\n",
            "+-------+------------------+------------------+------------------+-----------------+------------------+------------------+------------------+--------------------+------------------+-----------------+-------------------+----------------------------+-----------------+\n",
            "|  count|               178|               178|               178|              178|               178|               178|               178|                 178|               178|              178|                178|                         178|              178|\n",
            "|   mean|13.000617977528083| 2.336348314606741|2.3665168539325854|19.49494382022472| 99.74157303370787| 2.295112359550562|2.0292696629213474| 0.36185393258426973|1.5908988764044953|5.058089882022473| 0.9574494382022468|          2.6116853932584254|746.8932584269663|\n",
            "| stddev| 0.811826538005858|1.1171460976144625|0.2743440090608148|3.339563767173504|14.282483515295652|0.6258510488339892|0.9988586850169471| 0.12445334029667941|0.5723588626747612|2.318285871822413|0.22857156582982324|          0.7099904287650503|314.9074742768492|\n",
            "|    min|             11.03|              0.74|              1.36|             10.6|              70.0|              0.98|              0.34|                0.13|              0.41|             1.28|               0.48|                        1.27|            278.0|\n",
            "|    max|             14.83|               5.8|              3.23|             30.0|             162.0|              3.88|              5.08|                0.66|              3.58|             13.0|               1.71|                         4.0|           1680.0|\n",
            "+-------+------------------+------------------+------------------+-----------------+------------------+------------------+------------------+--------------------+------------------+-----------------+-------------------+----------------------------+-----------------+\n",
            "\n"
          ]
        }
      ]
    },
    {
      "cell_type": "markdown",
      "source": [
        "From the above distribution, we see that different features have different scale. For example, the *alcohol* feature range from 11 to 14 whereas *malic_acid* feature ranges from 0.74 to 5.8 (other features also have different scale)."
      ],
      "metadata": {
        "id": "Yx-SM3IgroRx"
      }
    },
    {
      "cell_type": "code",
      "source": [
        "## check for missing values\n",
        "missing_values = {col:wine.filter(wine[col].isNull()).count() for col in wine.columns}  # this list comprehension show the number of missing value in each column\n",
        "missing_values"
      ],
      "metadata": {
        "colab": {
          "base_uri": "https://localhost:8080/"
        },
        "id": "XytQnXuOOVB6",
        "outputId": "75f8d745-c96f-4821-fa1b-ed7a1026876a"
      },
      "execution_count": 8,
      "outputs": [
        {
          "output_type": "execute_result",
          "data": {
            "text/plain": [
              "{'alcohol': 0,\n",
              " 'malic_acid': 0,\n",
              " 'ash': 0,\n",
              " 'alcalinity_of_ash': 0,\n",
              " 'magnesium': 0,\n",
              " 'total_phenols': 0,\n",
              " 'flavanoids': 0,\n",
              " 'nonflavanoid_phenols': 0,\n",
              " 'proanthocyanins': 0,\n",
              " 'color_intensity': 0,\n",
              " 'hue': 0,\n",
              " 'od280/od315_of_diluted_wines': 0,\n",
              " 'proline': 0}"
            ]
          },
          "metadata": {},
          "execution_count": 8
        }
      ]
    },
    {
      "cell_type": "markdown",
      "source": [
        "MLlib models take vector as input. Right now, the features we are going to use are saved in different columns. Let's first convert them into Vectors and saved them into a new column in the dataframe.\n",
        "\n",
        "Luckly, MLlib is very similar to `sklearn` package: they both provide awesome preprocessing and ultility functions."
      ],
      "metadata": {
        "id": "jT-UBParseB3"
      }
    },
    {
      "cell_type": "code",
      "source": [
        "from pyspark.ml.linalg import Vector\n",
        "from pyspark.ml.feature import VectorAssembler"
      ],
      "metadata": {
        "id": "C_EdEu1IPf-q"
      },
      "execution_count": 9,
      "outputs": []
    },
    {
      "cell_type": "code",
      "source": [
        "wine.columns"
      ],
      "metadata": {
        "colab": {
          "base_uri": "https://localhost:8080/"
        },
        "id": "ieFlO9vOQOjm",
        "outputId": "3d03b191-9bfb-4a40-f0c2-2bc360a1e31d"
      },
      "execution_count": null,
      "outputs": [
        {
          "output_type": "execute_result",
          "data": {
            "text/plain": [
              "['alcohol',\n",
              " 'malic_acid',\n",
              " 'ash',\n",
              " 'alcalinity_of_ash',\n",
              " 'magnesium',\n",
              " 'total_phenols',\n",
              " 'flavanoids',\n",
              " 'nonflavanoid_phenols',\n",
              " 'proanthocyanins',\n",
              " 'color_intensity',\n",
              " 'hue',\n",
              " 'od280/od315_of_diluted_wines',\n",
              " 'proline']"
            ]
          },
          "metadata": {},
          "execution_count": 10
        }
      ]
    },
    {
      "cell_type": "code",
      "source": [
        "## select a set of features we are going to use for clustering\n",
        "# features = ['alcohol', 'malic_acid', 'ash', 'alcalinity_of_ash', 'magnesium', 'total_phenols', 'flavanoids',\n",
        "            # 'nonflavanoid_phenols', 'proanthocyanins', 'color_intensity', 'hue', 'od280/od315_of_diluted_wines', 'proline']\n",
        "features = wine.columns"
      ],
      "metadata": {
        "id": "96imI7fCQIL9"
      },
      "execution_count": 10,
      "outputs": []
    },
    {
      "cell_type": "code",
      "source": [
        "## assemble all the features we want to use into one vector and save it into the \"features\" column in wine2\n",
        "vector_assembler = VectorAssembler(inputCols=features, outputCol=\"features\")\n",
        "wine2 = vector_assembler.transform(wine)"
      ],
      "metadata": {
        "id": "ZtCZIzWoQheo"
      },
      "execution_count": 11,
      "outputs": []
    },
    {
      "cell_type": "code",
      "source": [
        "wine2.show(5)"
      ],
      "metadata": {
        "colab": {
          "base_uri": "https://localhost:8080/"
        },
        "id": "UZsh6fSyRRKr",
        "outputId": "8f4a449e-0391-4f58-f2ec-ebb44692aa54"
      },
      "execution_count": 22,
      "outputs": [
        {
          "output_type": "stream",
          "name": "stdout",
          "text": [
            "+-------+----------+----+-----------------+---------+-------------+----------+--------------------+---------------+---------------+----+----------------------------+-------+--------------------+--------------------+\n",
            "|alcohol|malic_acid| ash|alcalinity_of_ash|magnesium|total_phenols|flavanoids|nonflavanoid_phenols|proanthocyanins|color_intensity| hue|od280/od315_of_diluted_wines|proline|            features|     scaled_features|\n",
            "+-------+----------+----+-----------------+---------+-------------+----------+--------------------+---------------+---------------+----+----------------------------+-------+--------------------+--------------------+\n",
            "|  14.23|      1.71|2.43|             15.6|    127.0|          2.8|      3.06|                0.28|           2.29|           5.64|1.04|                        3.92| 1065.0|[14.23,1.71,2.43,...|[1.51434076729214...|\n",
            "|   13.2|      1.78|2.14|             11.2|    100.0|         2.65|      2.76|                0.26|           1.28|           4.38|1.05|                         3.4| 1050.0|[13.2,1.78,2.14,1...|[0.24559682781702...|\n",
            "|  13.16|      2.36|2.67|             18.6|    101.0|          2.8|      3.24|                 0.3|           2.81|           5.68|1.03|                        3.17| 1185.0|[13.16,2.36,2.67,...|[0.19632521851701...|\n",
            "|  14.37|      1.95| 2.5|             16.8|    113.0|         3.85|      3.49|                0.24|           2.18|            7.8|0.86|                        3.45| 1480.0|[14.37,1.95,2.5,1...|[1.68679139984215...|\n",
            "|  13.24|      2.59|2.87|             21.0|    118.0|          2.8|      2.69|                0.39|           1.82|           4.32|1.04|                        2.93|  735.0|[13.24,2.59,2.87,...|[0.29486843711702...|\n",
            "+-------+----------+----+-----------------+---------+-------------+----------+--------------------+---------------+---------------+----+----------------------------+-------+--------------------+--------------------+\n",
            "only showing top 5 rows\n",
            "\n"
          ]
        }
      ]
    },
    {
      "cell_type": "markdown",
      "source": [
        "In previous analysis, we found that different features have different scale -- This is likely to cause troubles in clustering because KMeans assign data points to groups based on their distances to the center point. So, in order to overcome this, we will usually standardize the features to make them all have a mean=0 and std= 1. The standardization follows this formula:\n",
        "\n",
        "$$Z = \\frac{x_i - \\mu}{\\sigma}$$\n",
        "\n",
        "Similar to sklearn, MLlib also offer a `StandardScaler` to streamline the process."
      ],
      "metadata": {
        "id": "2hz0QTQgthWo"
      }
    },
    {
      "cell_type": "code",
      "source": [
        "from pyspark.ml.feature import StandardScaler"
      ],
      "metadata": {
        "id": "0KrevlqpWEpf"
      },
      "execution_count": 29,
      "outputs": []
    },
    {
      "cell_type": "code",
      "source": [
        "## initialize the standard scaler\n",
        "scaler = StandardScaler(inputCol=\"features\", outputCol=\"scaled_features\", withMean=True, withStd=True)\n",
        "\n",
        "## fit with the wine dataset\n",
        "scaler_model = scaler.fit(wine2)\n",
        "\n",
        "## write the output to overwrite wine2\n",
        "wine2 = scaler_model.transform(wine2)"
      ],
      "metadata": {
        "id": "MKSaOQd9WKjX",
        "colab": {
          "base_uri": "https://localhost:8080/",
          "height": 350
        },
        "outputId": "dc8acf83-5e9c-449e-e056-6b915859967d"
      },
      "execution_count": 30,
      "outputs": [
        {
          "output_type": "error",
          "ename": "IllegalArgumentException",
          "evalue": "requirement failed: Output column scaled_features already exists.",
          "traceback": [
            "\u001b[0;31m---------------------------------------------------------------------------\u001b[0m",
            "\u001b[0;31mIllegalArgumentException\u001b[0m                  Traceback (most recent call last)",
            "\u001b[0;32m<ipython-input-30-a27563f60d4e>\u001b[0m in \u001b[0;36m<cell line: 5>\u001b[0;34m()\u001b[0m\n\u001b[1;32m      3\u001b[0m \u001b[0;34m\u001b[0m\u001b[0m\n\u001b[1;32m      4\u001b[0m \u001b[0;31m## fit with the wine dataset\u001b[0m\u001b[0;34m\u001b[0m\u001b[0;34m\u001b[0m\u001b[0m\n\u001b[0;32m----> 5\u001b[0;31m \u001b[0mscaler_model\u001b[0m \u001b[0;34m=\u001b[0m \u001b[0mscaler\u001b[0m\u001b[0;34m.\u001b[0m\u001b[0mfit\u001b[0m\u001b[0;34m(\u001b[0m\u001b[0mwine2\u001b[0m\u001b[0;34m)\u001b[0m\u001b[0;34m\u001b[0m\u001b[0;34m\u001b[0m\u001b[0m\n\u001b[0m\u001b[1;32m      6\u001b[0m \u001b[0;34m\u001b[0m\u001b[0m\n\u001b[1;32m      7\u001b[0m \u001b[0;31m## write the output to overwrite wine2\u001b[0m\u001b[0;34m\u001b[0m\u001b[0;34m\u001b[0m\u001b[0m\n",
            "\u001b[0;32m/usr/local/lib/python3.10/dist-packages/pyspark/ml/base.py\u001b[0m in \u001b[0;36mfit\u001b[0;34m(self, dataset, params)\u001b[0m\n\u001b[1;32m    203\u001b[0m                 \u001b[0;32mreturn\u001b[0m \u001b[0mself\u001b[0m\u001b[0;34m.\u001b[0m\u001b[0mcopy\u001b[0m\u001b[0;34m(\u001b[0m\u001b[0mparams\u001b[0m\u001b[0;34m)\u001b[0m\u001b[0;34m.\u001b[0m\u001b[0m_fit\u001b[0m\u001b[0;34m(\u001b[0m\u001b[0mdataset\u001b[0m\u001b[0;34m)\u001b[0m\u001b[0;34m\u001b[0m\u001b[0;34m\u001b[0m\u001b[0m\n\u001b[1;32m    204\u001b[0m             \u001b[0;32melse\u001b[0m\u001b[0;34m:\u001b[0m\u001b[0;34m\u001b[0m\u001b[0;34m\u001b[0m\u001b[0m\n\u001b[0;32m--> 205\u001b[0;31m                 \u001b[0;32mreturn\u001b[0m \u001b[0mself\u001b[0m\u001b[0;34m.\u001b[0m\u001b[0m_fit\u001b[0m\u001b[0;34m(\u001b[0m\u001b[0mdataset\u001b[0m\u001b[0;34m)\u001b[0m\u001b[0;34m\u001b[0m\u001b[0;34m\u001b[0m\u001b[0m\n\u001b[0m\u001b[1;32m    206\u001b[0m         \u001b[0;32melse\u001b[0m\u001b[0;34m:\u001b[0m\u001b[0;34m\u001b[0m\u001b[0;34m\u001b[0m\u001b[0m\n\u001b[1;32m    207\u001b[0m             raise TypeError(\n",
            "\u001b[0;32m/usr/local/lib/python3.10/dist-packages/pyspark/ml/wrapper.py\u001b[0m in \u001b[0;36m_fit\u001b[0;34m(self, dataset)\u001b[0m\n\u001b[1;32m    379\u001b[0m \u001b[0;34m\u001b[0m\u001b[0m\n\u001b[1;32m    380\u001b[0m     \u001b[0;32mdef\u001b[0m \u001b[0m_fit\u001b[0m\u001b[0;34m(\u001b[0m\u001b[0mself\u001b[0m\u001b[0;34m,\u001b[0m \u001b[0mdataset\u001b[0m\u001b[0;34m:\u001b[0m \u001b[0mDataFrame\u001b[0m\u001b[0;34m)\u001b[0m \u001b[0;34m->\u001b[0m \u001b[0mJM\u001b[0m\u001b[0;34m:\u001b[0m\u001b[0;34m\u001b[0m\u001b[0;34m\u001b[0m\u001b[0m\n\u001b[0;32m--> 381\u001b[0;31m         \u001b[0mjava_model\u001b[0m \u001b[0;34m=\u001b[0m \u001b[0mself\u001b[0m\u001b[0;34m.\u001b[0m\u001b[0m_fit_java\u001b[0m\u001b[0;34m(\u001b[0m\u001b[0mdataset\u001b[0m\u001b[0;34m)\u001b[0m\u001b[0;34m\u001b[0m\u001b[0;34m\u001b[0m\u001b[0m\n\u001b[0m\u001b[1;32m    382\u001b[0m         \u001b[0mmodel\u001b[0m \u001b[0;34m=\u001b[0m \u001b[0mself\u001b[0m\u001b[0;34m.\u001b[0m\u001b[0m_create_model\u001b[0m\u001b[0;34m(\u001b[0m\u001b[0mjava_model\u001b[0m\u001b[0;34m)\u001b[0m\u001b[0;34m\u001b[0m\u001b[0;34m\u001b[0m\u001b[0m\n\u001b[1;32m    383\u001b[0m         \u001b[0;32mreturn\u001b[0m \u001b[0mself\u001b[0m\u001b[0;34m.\u001b[0m\u001b[0m_copyValues\u001b[0m\u001b[0;34m(\u001b[0m\u001b[0mmodel\u001b[0m\u001b[0;34m)\u001b[0m\u001b[0;34m\u001b[0m\u001b[0;34m\u001b[0m\u001b[0m\n",
            "\u001b[0;32m/usr/local/lib/python3.10/dist-packages/pyspark/ml/wrapper.py\u001b[0m in \u001b[0;36m_fit_java\u001b[0;34m(self, dataset)\u001b[0m\n\u001b[1;32m    376\u001b[0m \u001b[0;34m\u001b[0m\u001b[0m\n\u001b[1;32m    377\u001b[0m         \u001b[0mself\u001b[0m\u001b[0;34m.\u001b[0m\u001b[0m_transfer_params_to_java\u001b[0m\u001b[0;34m(\u001b[0m\u001b[0;34m)\u001b[0m\u001b[0;34m\u001b[0m\u001b[0;34m\u001b[0m\u001b[0m\n\u001b[0;32m--> 378\u001b[0;31m         \u001b[0;32mreturn\u001b[0m \u001b[0mself\u001b[0m\u001b[0;34m.\u001b[0m\u001b[0m_java_obj\u001b[0m\u001b[0;34m.\u001b[0m\u001b[0mfit\u001b[0m\u001b[0;34m(\u001b[0m\u001b[0mdataset\u001b[0m\u001b[0;34m.\u001b[0m\u001b[0m_jdf\u001b[0m\u001b[0;34m)\u001b[0m\u001b[0;34m\u001b[0m\u001b[0;34m\u001b[0m\u001b[0m\n\u001b[0m\u001b[1;32m    379\u001b[0m \u001b[0;34m\u001b[0m\u001b[0m\n\u001b[1;32m    380\u001b[0m     \u001b[0;32mdef\u001b[0m \u001b[0m_fit\u001b[0m\u001b[0;34m(\u001b[0m\u001b[0mself\u001b[0m\u001b[0;34m,\u001b[0m \u001b[0mdataset\u001b[0m\u001b[0;34m:\u001b[0m \u001b[0mDataFrame\u001b[0m\u001b[0;34m)\u001b[0m \u001b[0;34m->\u001b[0m \u001b[0mJM\u001b[0m\u001b[0;34m:\u001b[0m\u001b[0;34m\u001b[0m\u001b[0;34m\u001b[0m\u001b[0m\n",
            "\u001b[0;32m/usr/local/lib/python3.10/dist-packages/py4j/java_gateway.py\u001b[0m in \u001b[0;36m__call__\u001b[0;34m(self, *args)\u001b[0m\n\u001b[1;32m   1320\u001b[0m \u001b[0;34m\u001b[0m\u001b[0m\n\u001b[1;32m   1321\u001b[0m         \u001b[0manswer\u001b[0m \u001b[0;34m=\u001b[0m \u001b[0mself\u001b[0m\u001b[0;34m.\u001b[0m\u001b[0mgateway_client\u001b[0m\u001b[0;34m.\u001b[0m\u001b[0msend_command\u001b[0m\u001b[0;34m(\u001b[0m\u001b[0mcommand\u001b[0m\u001b[0;34m)\u001b[0m\u001b[0;34m\u001b[0m\u001b[0;34m\u001b[0m\u001b[0m\n\u001b[0;32m-> 1322\u001b[0;31m         return_value = get_return_value(\n\u001b[0m\u001b[1;32m   1323\u001b[0m             answer, self.gateway_client, self.target_id, self.name)\n\u001b[1;32m   1324\u001b[0m \u001b[0;34m\u001b[0m\u001b[0m\n",
            "\u001b[0;32m/usr/local/lib/python3.10/dist-packages/pyspark/errors/exceptions/captured.py\u001b[0m in \u001b[0;36mdeco\u001b[0;34m(*a, **kw)\u001b[0m\n\u001b[1;32m    183\u001b[0m                 \u001b[0;31m# Hide where the exception came from that shows a non-Pythonic\u001b[0m\u001b[0;34m\u001b[0m\u001b[0;34m\u001b[0m\u001b[0m\n\u001b[1;32m    184\u001b[0m                 \u001b[0;31m# JVM exception message.\u001b[0m\u001b[0;34m\u001b[0m\u001b[0;34m\u001b[0m\u001b[0m\n\u001b[0;32m--> 185\u001b[0;31m                 \u001b[0;32mraise\u001b[0m \u001b[0mconverted\u001b[0m \u001b[0;32mfrom\u001b[0m \u001b[0;32mNone\u001b[0m\u001b[0;34m\u001b[0m\u001b[0;34m\u001b[0m\u001b[0m\n\u001b[0m\u001b[1;32m    186\u001b[0m             \u001b[0;32melse\u001b[0m\u001b[0;34m:\u001b[0m\u001b[0;34m\u001b[0m\u001b[0;34m\u001b[0m\u001b[0m\n\u001b[1;32m    187\u001b[0m                 \u001b[0;32mraise\u001b[0m\u001b[0;34m\u001b[0m\u001b[0;34m\u001b[0m\u001b[0m\n",
            "\u001b[0;31mIllegalArgumentException\u001b[0m: requirement failed: Output column scaled_features already exists."
          ]
        }
      ]
    },
    {
      "cell_type": "code",
      "source": [
        "wine2.show(5)"
      ],
      "metadata": {
        "colab": {
          "base_uri": "https://localhost:8080/"
        },
        "id": "CzezJbwBXadC",
        "outputId": "7c3c3c5b-f13c-44b1-9b3e-45cc9d635987"
      },
      "execution_count": 31,
      "outputs": [
        {
          "output_type": "stream",
          "name": "stdout",
          "text": [
            "+-------+----------+----+-----------------+---------+-------------+----------+--------------------+---------------+---------------+----+----------------------------+-------+--------------------+--------------------+\n",
            "|alcohol|malic_acid| ash|alcalinity_of_ash|magnesium|total_phenols|flavanoids|nonflavanoid_phenols|proanthocyanins|color_intensity| hue|od280/od315_of_diluted_wines|proline|            features|     scaled_features|\n",
            "+-------+----------+----+-----------------+---------+-------------+----------+--------------------+---------------+---------------+----+----------------------------+-------+--------------------+--------------------+\n",
            "|  14.23|      1.71|2.43|             15.6|    127.0|          2.8|      3.06|                0.28|           2.29|           5.64|1.04|                        3.92| 1065.0|[14.23,1.71,2.43,...|[1.51434076729214...|\n",
            "|   13.2|      1.78|2.14|             11.2|    100.0|         2.65|      2.76|                0.26|           1.28|           4.38|1.05|                         3.4| 1050.0|[13.2,1.78,2.14,1...|[0.24559682781702...|\n",
            "|  13.16|      2.36|2.67|             18.6|    101.0|          2.8|      3.24|                 0.3|           2.81|           5.68|1.03|                        3.17| 1185.0|[13.16,2.36,2.67,...|[0.19632521851701...|\n",
            "|  14.37|      1.95| 2.5|             16.8|    113.0|         3.85|      3.49|                0.24|           2.18|            7.8|0.86|                        3.45| 1480.0|[14.37,1.95,2.5,1...|[1.68679139984215...|\n",
            "|  13.24|      2.59|2.87|             21.0|    118.0|          2.8|      2.69|                0.39|           1.82|           4.32|1.04|                        2.93|  735.0|[13.24,2.59,2.87,...|[0.29486843711702...|\n",
            "+-------+----------+----+-----------------+---------+-------------+----------+--------------------+---------------+---------------+----+----------------------------+-------+--------------------+--------------------+\n",
            "only showing top 5 rows\n",
            "\n"
          ]
        }
      ]
    },
    {
      "cell_type": "markdown",
      "source": [
        "## Start Clustering with KMeans"
      ],
      "metadata": {
        "id": "KiQEipRe0muX"
      }
    },
    {
      "cell_type": "code",
      "source": [
        "## import KMeans from pyspark MLlib\n",
        "\n",
        "from pyspark.ml.clustering import KMeans\n",
        "from pyspark.ml.evaluation import ClusteringEvaluator"
      ],
      "metadata": {
        "id": "Wj1a8nrURYyc"
      },
      "execution_count": 15,
      "outputs": []
    },
    {
      "cell_type": "code",
      "source": [
        "# initialize KMeans model\n",
        "## here we specify that we are going to use the scaled_features column as our feature and fit a Kmeans model with 3 clusters.\n",
        "kmeans = KMeans(featuresCol = \"scaled_features\", k=3)\n",
        "## fit the actual data\n",
        "model = kmeans.fit(wine2)"
      ],
      "metadata": {
        "id": "lHVXJFjlLmpO"
      },
      "execution_count": 16,
      "outputs": []
    },
    {
      "cell_type": "code",
      "source": [
        "model"
      ],
      "metadata": {
        "colab": {
          "base_uri": "https://localhost:8080/"
        },
        "id": "qxL5NNJovvjR",
        "outputId": "8e64f326-961c-41b5-91db-662345efe8bd"
      },
      "execution_count": 17,
      "outputs": [
        {
          "output_type": "execute_result",
          "data": {
            "text/plain": [
              "KMeansModel: uid=KMeans_5b17fd72f7e0, k=3, distanceMeasure=euclidean, numFeatures=13"
            ]
          },
          "metadata": {},
          "execution_count": 17
        }
      ]
    },
    {
      "cell_type": "code",
      "source": [
        "# Make prediction / assign wines into category\n",
        "predictions = model.transform(wine2)"
      ],
      "metadata": {
        "id": "47vfmr8xLoEj"
      },
      "execution_count": 18,
      "outputs": []
    },
    {
      "cell_type": "code",
      "source": [
        "predictions.show(5)"
      ],
      "metadata": {
        "colab": {
          "base_uri": "https://localhost:8080/"
        },
        "id": "5yDbd1dQSBsu",
        "outputId": "023d6954-65fa-420e-98b1-ef84d912b3e5"
      },
      "execution_count": 20,
      "outputs": [
        {
          "output_type": "stream",
          "name": "stdout",
          "text": [
            "+-------+----------+----+-----------------+---------+-------------+----------+--------------------+---------------+---------------+----+----------------------------+-------+--------------------+--------------------+----------+\n",
            "|alcohol|malic_acid| ash|alcalinity_of_ash|magnesium|total_phenols|flavanoids|nonflavanoid_phenols|proanthocyanins|color_intensity| hue|od280/od315_of_diluted_wines|proline|            features|     scaled_features|prediction|\n",
            "+-------+----------+----+-----------------+---------+-------------+----------+--------------------+---------------+---------------+----+----------------------------+-------+--------------------+--------------------+----------+\n",
            "|  14.23|      1.71|2.43|             15.6|    127.0|          2.8|      3.06|                0.28|           2.29|           5.64|1.04|                        3.92| 1065.0|[14.23,1.71,2.43,...|[1.51434076729214...|         0|\n",
            "|   13.2|      1.78|2.14|             11.2|    100.0|         2.65|      2.76|                0.26|           1.28|           4.38|1.05|                         3.4| 1050.0|[13.2,1.78,2.14,1...|[0.24559682781702...|         0|\n",
            "|  13.16|      2.36|2.67|             18.6|    101.0|          2.8|      3.24|                 0.3|           2.81|           5.68|1.03|                        3.17| 1185.0|[13.16,2.36,2.67,...|[0.19632521851701...|         0|\n",
            "|  14.37|      1.95| 2.5|             16.8|    113.0|         3.85|      3.49|                0.24|           2.18|            7.8|0.86|                        3.45| 1480.0|[14.37,1.95,2.5,1...|[1.68679139984215...|         0|\n",
            "|  13.24|      2.59|2.87|             21.0|    118.0|          2.8|      2.69|                0.39|           1.82|           4.32|1.04|                        2.93|  735.0|[13.24,2.59,2.87,...|[0.29486843711702...|         0|\n",
            "+-------+----------+----+-----------------+---------+-------------+----------+--------------------+---------------+---------------+----+----------------------------+-------+--------------------+--------------------+----------+\n",
            "only showing top 5 rows\n",
            "\n"
          ]
        }
      ]
    },
    {
      "cell_type": "code",
      "source": [
        "## check how many wines per category\n",
        "\n",
        "predictions.groupBy(\"prediction\").count().show()"
      ],
      "metadata": {
        "colab": {
          "base_uri": "https://localhost:8080/"
        },
        "id": "mBxoPV00Lq24",
        "outputId": "90284fee-f584-423a-e392-d44656fab7b4"
      },
      "execution_count": 21,
      "outputs": [
        {
          "output_type": "stream",
          "name": "stdout",
          "text": [
            "+----------+-----+\n",
            "|prediction|count|\n",
            "+----------+-----+\n",
            "|         1|   49|\n",
            "|         2|   62|\n",
            "|         0|   67|\n",
            "+----------+-----+\n",
            "\n"
          ]
        }
      ]
    },
    {
      "cell_type": "markdown",
      "source": [
        "Unlike Classification, Clustering usually doesn't have a definative evaluation metric such as accuracy. Our target is often strike a balance between simplicity/explainability and accurately reflect the underlying data structure. (By grouping similar data points together, clustering helps to simplify and summarize large datasets into a more manageable form.)\n",
        "\n",
        "Because the target of clustering is to group data points so that those within each group (or cluster) are more similar to each other than they are to data points in other clusters. there are a set of measures we could use to calculate how the exisiting clustering reflect the underlying data distribution.\n",
        "\n",
        "**Silhouette score** is one of them.\n",
        "- check more about this measure here: https://scikit-learn.org/stable/modules/generated/sklearn.metrics.silhouette_score.html\n"
      ],
      "metadata": {
        "id": "2s3wKjUVwDyY"
      }
    },
    {
      "cell_type": "code",
      "source": [
        "# Evaluate clustering by computing Silhouette score\n",
        "\n",
        "evaluator = ClusteringEvaluator(predictionCol=\"prediction\", featuresCol=\"scaled_features\")\n",
        "silhouette = evaluator.evaluate(predictions)\n",
        "print(\"Silhouette with squared euclidean distance = \", silhouette)"
      ],
      "metadata": {
        "colab": {
          "base_uri": "https://localhost:8080/"
        },
        "id": "vNObQGJzL494",
        "outputId": "e520b790-45a8-4d3a-ec2f-f40179abdd91"
      },
      "execution_count": 32,
      "outputs": [
        {
          "output_type": "stream",
          "name": "stdout",
          "text": [
            "Silhouette with squared euclidean distance =  0.4461668536664658\n"
          ]
        }
      ]
    },
    {
      "cell_type": "markdown",
      "source": [
        "## Interpret clustering result"
      ],
      "metadata": {
        "id": "Oy8Hehm80SwW"
      }
    },
    {
      "cell_type": "code",
      "source": [
        "# Shows the center point of each cluster.\n",
        "centers = model.clusterCenters()\n",
        "print(\"Cluster Centers: \")\n",
        "for id,center in enumerate(centers):\n",
        "  print(id)\n",
        "  print(center)\n",
        "  print(\"==\"*20)"
      ],
      "metadata": {
        "colab": {
          "base_uri": "https://localhost:8080/"
        },
        "id": "XKyEx1JmL80s",
        "outputId": "27b6627f-8beb-49dd-dc16-dc77efdae226"
      },
      "execution_count": 33,
      "outputs": [
        {
          "output_type": "stream",
          "name": "stdout",
          "text": [
            "Cluster Centers: \n",
            "0\n",
            "[ 0.72893661 -0.35826013  0.27873115 -0.56921026  0.5991209   0.86753444\n",
            "  0.92820762 -0.60733827  0.60784783  0.10666642  0.49893826  0.74810928\n",
            "  1.02357247]\n",
            "========================================\n",
            "1\n",
            "[ 0.1860184   0.90242582  0.24850925  0.58206156 -0.05049296 -0.98577624\n",
            " -1.2327174   0.71482528 -0.74749896  0.98571769 -1.18794772 -1.2978785\n",
            " -0.37897557]\n",
            "========================================\n",
            "2\n",
            "[-0.93473636 -0.32605542 -0.49761194  0.15509792 -0.60753138 -0.15841568\n",
            " -0.02881868  0.0913746  -0.06610251 -0.8943035   0.39968669  0.21730201\n",
            " -0.80660569]\n",
            "========================================\n"
          ]
        }
      ]
    },
    {
      "cell_type": "code",
      "source": [
        "centers = pd.DataFrame(centers, columns=features)\n",
        "plt.figure(figsize=(6,8))\n",
        "sns.heatmap(centers.T, cmap=\"Blues\")"
      ],
      "metadata": {
        "colab": {
          "base_uri": "https://localhost:8080/",
          "height": 693
        },
        "id": "jLM0F7rBTNuV",
        "outputId": "1e12d87e-ef7c-408a-e8dd-c4bba6df92d5"
      },
      "execution_count": 34,
      "outputs": [
        {
          "output_type": "execute_result",
          "data": {
            "text/plain": [
              "<Axes: >"
            ]
          },
          "metadata": {},
          "execution_count": 34
        },
        {
          "output_type": "display_data",
          "data": {
            "text/plain": [
              "<Figure size 600x800 with 2 Axes>"
            ],
            "image/png": "[encoded data removed]"
          },
          "metadata": {}
        }
      ]
    },
    {
      "cell_type": "markdown",
      "source": [
        "## Practice\n",
        "\n",
        "- Calculate the average value of all the features for each cluster.\n",
        "- Try to fit a KMeans model with 4 clusters (k=4), which KMeans model gets a higher Silhouette score?"
      ],
      "metadata": {
        "id": "7KI0I1qLywD2"
      }
    },
    {
      "cell_type": "code",
      "source": [
        "## your code here\n",
        "from pyspark.sql import functions as F\n"
      ],
      "metadata": {
        "id": "D4es7axmzDoO"
      },
      "execution_count": 36,
      "outputs": []
    },
    {
      "cell_type": "code",
      "source": [
        "predictions.groupBy(\"prediction\").agg(F.avg(\"alcohol\")).show()"
      ],
      "metadata": {
        "colab": {
          "base_uri": "https://localhost:8080/"
        },
        "id": "VSoLN1KJY3wk",
        "outputId": "5139bcfa-ba7e-43a2-bd87-37ab254d9bbf"
      },
      "execution_count": 37,
      "outputs": [
        {
          "output_type": "stream",
          "name": "stdout",
          "text": [
            "+----------+------------------+\n",
            "|prediction|      avg(alcohol)|\n",
            "+----------+------------------+\n",
            "|         1|13.151632653061224|\n",
            "|         2|12.241774193548386|\n",
            "|         0|13.592388059701495|\n",
            "+----------+------------------+\n",
            "\n"
          ]
        }
      ]
    },
    {
      "cell_type": "code",
      "source": [
        "for feature in features:\n",
        "    predictions.groupBy(\"prediction\").agg(F.avg(feature)).show()"
      ],
      "metadata": {
        "colab": {
          "base_uri": "https://localhost:8080/"
        },
        "id": "8pzr9QSVZSlr",
        "outputId": "cc2e3274-d253-499f-8572-394b54a99ced"
      },
      "execution_count": 39,
      "outputs": [
        {
          "output_type": "stream",
          "name": "stdout",
          "text": [
            "+----------+------------------+\n",
            "|prediction|      avg(alcohol)|\n",
            "+----------+------------------+\n",
            "|         1|13.151632653061224|\n",
            "|         2|12.241774193548386|\n",
            "|         0|13.592388059701495|\n",
            "+----------+------------------+\n",
            "\n",
            "+----------+------------------+\n",
            "|prediction|   avg(malic_acid)|\n",
            "+----------+------------------+\n",
            "|         1| 3.344489795918368|\n",
            "|         2|1.9720967741935485|\n",
            "|         0| 1.936119402985075|\n",
            "+----------+------------------+\n",
            "\n",
            "+----------+------------------+\n",
            "|prediction|          avg(ash)|\n",
            "+----------+------------------+\n",
            "|         1|  2.43469387755102|\n",
            "|         2|              2.23|\n",
            "|         0|2.4429850746268658|\n",
            "+----------+------------------+\n",
            "\n",
            "+----------+----------------------+\n",
            "|prediction|avg(alcalinity_of_ash)|\n",
            "+----------+----------------------+\n",
            "|         1|     21.43877551020408|\n",
            "|         2|    20.012903225806454|\n",
            "|         0|    17.594029850746267|\n",
            "+----------+----------------------+\n",
            "\n",
            "+----------+------------------+\n",
            "|prediction|    avg(magnesium)|\n",
            "+----------+------------------+\n",
            "|         1|  99.0204081632653|\n",
            "|         2| 91.06451612903226|\n",
            "|         0|108.29850746268657|\n",
            "+----------+------------------+\n",
            "\n",
            "+----------+------------------+\n",
            "|prediction|avg(total_phenols)|\n",
            "+----------+------------------+\n",
            "|         1|1.6781632653061225|\n",
            "|         2|2.1959677419354846|\n",
            "|         0|2.8380597014925373|\n",
            "+----------+------------------+\n",
            "\n",
            "+----------+------------------+\n",
            "|prediction|   avg(flavanoids)|\n",
            "+----------+------------------+\n",
            "|         1|0.7979591836734693|\n",
            "|         2| 2.000483870967743|\n",
            "|         0| 2.956417910447761|\n",
            "+----------+------------------+\n",
            "\n",
            "+----------+-------------------------+\n",
            "|prediction|avg(nonflavanoid_phenols)|\n",
            "+----------+-------------------------+\n",
            "|         1|      0.45081632653061215|\n",
            "|         2|       0.3732258064516129|\n",
            "|         0|       0.2862686567164179|\n",
            "+----------+-------------------------+\n",
            "\n",
            "+----------+--------------------+\n",
            "|prediction|avg(proanthocyanins)|\n",
            "+----------+--------------------+\n",
            "|         1|  1.1630612244897958|\n",
            "|         2|  1.5530645161290326|\n",
            "|         0|  1.9388059701492542|\n",
            "+----------+--------------------+\n",
            "\n",
            "+----------+--------------------+\n",
            "|prediction|avg(color_intensity)|\n",
            "+----------+--------------------+\n",
            "|         1|   7.343265285714286|\n",
            "|         2|    2.98483870967742|\n",
            "|         0|  5.3053731343283586|\n",
            "+----------+--------------------+\n",
            "\n",
            "+----------+------------------+\n",
            "|prediction|          avg(hue)|\n",
            "+----------+------------------+\n",
            "|         1|0.6859183673469389|\n",
            "|         2|1.0488064516129032|\n",
            "|         0| 1.071492537313433|\n",
            "+----------+------------------+\n",
            "\n",
            "+----------+---------------------------------+\n",
            "|prediction|avg(od280/od315_of_diluted_wines)|\n",
            "+----------+---------------------------------+\n",
            "|         1|               1.6902040816326522|\n",
            "|         2|               2.7659677419354836|\n",
            "|         0|               3.1428358208955225|\n",
            "+----------+---------------------------------+\n",
            "\n",
            "+----------+------------------+\n",
            "|prediction|      avg(proline)|\n",
            "+----------+------------------+\n",
            "|         1| 627.5510204081633|\n",
            "|         2|492.88709677419354|\n",
            "|         0|1069.2238805970148|\n",
            "+----------+------------------+\n",
            "\n"
          ]
        }
      ]
    },
    {
      "cell_type": "code",
      "source": [
        "## Try to fit a KMeans model with 4 clusters (k=4), which KMeans model gets a higher Silhouette score?\n",
        "\n",
        "# initialize KMeans model\n",
        "## here we specify that we are going to use the scaled_features column as our feature and fit a Kmeans model with 3 clusters.\n",
        "kmeans = KMeans(featuresCol = \"scaled_features\", k=4)\n",
        "## fit the actual data\n",
        "model = kmeans.fit(wine2)\n",
        "\n",
        "# Make prediction / assign wines into category\n",
        "predictions2 = model.transform(wine2)\n",
        "predictions2.show(5)"
      ],
      "metadata": {
        "colab": {
          "base_uri": "https://localhost:8080/"
        },
        "id": "X-_hhNwTZ8eQ",
        "outputId": "c8423acd-ff7b-468c-d58f-39bbef07cf46"
      },
      "execution_count": 40,
      "outputs": [
        {
          "output_type": "stream",
          "name": "stdout",
          "text": [
            "+-------+----------+----+-----------------+---------+-------------+----------+--------------------+---------------+---------------+----+----------------------------+-------+--------------------+--------------------+----------+\n",
            "|alcohol|malic_acid| ash|alcalinity_of_ash|magnesium|total_phenols|flavanoids|nonflavanoid_phenols|proanthocyanins|color_intensity| hue|od280/od315_of_diluted_wines|proline|            features|     scaled_features|prediction|\n",
            "+-------+----------+----+-----------------+---------+-------------+----------+--------------------+---------------+---------------+----+----------------------------+-------+--------------------+--------------------+----------+\n",
            "|  14.23|      1.71|2.43|             15.6|    127.0|          2.8|      3.06|                0.28|           2.29|           5.64|1.04|                        3.92| 1065.0|[14.23,1.71,2.43,...|[1.51434076729214...|         3|\n",
            "|   13.2|      1.78|2.14|             11.2|    100.0|         2.65|      2.76|                0.26|           1.28|           4.38|1.05|                         3.4| 1050.0|[13.2,1.78,2.14,1...|[0.24559682781702...|         3|\n",
            "|  13.16|      2.36|2.67|             18.6|    101.0|          2.8|      3.24|                 0.3|           2.81|           5.68|1.03|                        3.17| 1185.0|[13.16,2.36,2.67,...|[0.19632521851701...|         3|\n",
            "|  14.37|      1.95| 2.5|             16.8|    113.0|         3.85|      3.49|                0.24|           2.18|            7.8|0.86|                        3.45| 1480.0|[14.37,1.95,2.5,1...|[1.68679139984215...|         3|\n",
            "|  13.24|      2.59|2.87|             21.0|    118.0|          2.8|      2.69|                0.39|           1.82|           4.32|1.04|                        2.93|  735.0|[13.24,2.59,2.87,...|[0.29486843711702...|         3|\n",
            "+-------+----------+----+-----------------+---------+-------------+----------+--------------------+---------------+---------------+----+----------------------------+-------+--------------------+--------------------+----------+\n",
            "only showing top 5 rows\n",
            "\n"
          ]
        }
      ]
    },
    {
      "cell_type": "code",
      "source": [
        "predictions2.groupBy(\"prediction\").count().show()"
      ],
      "metadata": {
        "colab": {
          "base_uri": "https://localhost:8080/"
        },
        "id": "lUEznEBIamS9",
        "outputId": "dbaa34a4-a23e-44a6-c2f7-3cf1d41dcd99"
      },
      "execution_count": 41,
      "outputs": [
        {
          "output_type": "stream",
          "name": "stdout",
          "text": [
            "+----------+-----+\n",
            "|prediction|count|\n",
            "+----------+-----+\n",
            "|         1|    4|\n",
            "|         3|   60|\n",
            "|         2|   63|\n",
            "|         0|   51|\n",
            "+----------+-----+\n",
            "\n"
          ]
        }
      ]
    },
    {
      "cell_type": "code",
      "source": [
        "# Evaluate clustering by computing Silhouette score\n",
        "\n",
        "evaluator = ClusteringEvaluator(predictionCol=\"prediction\", featuresCol=\"scaled_features\")\n",
        "silhouette = evaluator.evaluate(predictions2)\n",
        "print(\"Silhouette with squared euclidean distance = \", silhouette)"
      ],
      "metadata": {
        "colab": {
          "base_uri": "https://localhost:8080/"
        },
        "id": "so-M80aKavtr",
        "outputId": "6c55511d-1c7a-43b8-b9ea-ae2670b7bc05"
      },
      "execution_count": 43,
      "outputs": [
        {
          "output_type": "stream",
          "name": "stdout",
          "text": [
            "Silhouette with squared euclidean distance =  0.4655969422296179\n"
          ]
        }
      ]
    }
  ]
}